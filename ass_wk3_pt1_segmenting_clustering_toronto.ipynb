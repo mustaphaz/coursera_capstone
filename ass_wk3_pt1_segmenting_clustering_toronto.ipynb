{
 "cells": [
  {
   "cell_type": "markdown",
   "id": "alive-joshua",
   "metadata": {},
   "source": [
    "## Assignment week 3 part 1 : Segmenting and Clustering Neighborhoods in Toronto"
   ]
  },
  {
   "cell_type": "code",
   "execution_count": 17,
   "id": "motivated-morocco",
   "metadata": {},
   "outputs": [],
   "source": [
    "import pandas as pd"
   ]
  },
  {
   "cell_type": "markdown",
   "id": "antique-maldives",
   "metadata": {},
   "source": [
    "### 1. Load data from web page"
   ]
  },
  {
   "cell_type": "code",
   "execution_count": 18,
   "id": "infrared-singapore",
   "metadata": {},
   "outputs": [
    {
     "data": {
      "text/html": [
       "<div>\n",
       "<style scoped>\n",
       "    .dataframe tbody tr th:only-of-type {\n",
       "        vertical-align: middle;\n",
       "    }\n",
       "\n",
       "    .dataframe tbody tr th {\n",
       "        vertical-align: top;\n",
       "    }\n",
       "\n",
       "    .dataframe thead th {\n",
       "        text-align: right;\n",
       "    }\n",
       "</style>\n",
       "<table border=\"1\" class=\"dataframe\">\n",
       "  <thead>\n",
       "    <tr style=\"text-align: right;\">\n",
       "      <th></th>\n",
       "      <th>Postal Code</th>\n",
       "      <th>Borough</th>\n",
       "      <th>Neighbourhood</th>\n",
       "    </tr>\n",
       "  </thead>\n",
       "  <tbody>\n",
       "    <tr>\n",
       "      <th>0</th>\n",
       "      <td>M1A</td>\n",
       "      <td>Not assigned</td>\n",
       "      <td>Not assigned</td>\n",
       "    </tr>\n",
       "    <tr>\n",
       "      <th>1</th>\n",
       "      <td>M2A</td>\n",
       "      <td>Not assigned</td>\n",
       "      <td>Not assigned</td>\n",
       "    </tr>\n",
       "    <tr>\n",
       "      <th>2</th>\n",
       "      <td>M3A</td>\n",
       "      <td>North York</td>\n",
       "      <td>Parkwoods</td>\n",
       "    </tr>\n",
       "    <tr>\n",
       "      <th>3</th>\n",
       "      <td>M4A</td>\n",
       "      <td>North York</td>\n",
       "      <td>Victoria Village</td>\n",
       "    </tr>\n",
       "    <tr>\n",
       "      <th>4</th>\n",
       "      <td>M5A</td>\n",
       "      <td>Downtown Toronto</td>\n",
       "      <td>Regent Park, Harbourfront</td>\n",
       "    </tr>\n",
       "  </tbody>\n",
       "</table>\n",
       "</div>"
      ],
      "text/plain": [
       "  Postal Code           Borough              Neighbourhood\n",
       "0         M1A      Not assigned               Not assigned\n",
       "1         M2A      Not assigned               Not assigned\n",
       "2         M3A        North York                  Parkwoods\n",
       "3         M4A        North York           Victoria Village\n",
       "4         M5A  Downtown Toronto  Regent Park, Harbourfront"
      ]
     },
     "execution_count": 18,
     "metadata": {},
     "output_type": "execute_result"
    }
   ],
   "source": [
    "url = 'https://en.wikipedia.org/wiki/List_of_postal_codes_of_Canada:_M'\n",
    "dfs = pd.read_html(url)\n",
    "df = dfs[0]\n",
    "df.head()"
   ]
  },
  {
   "cell_type": "markdown",
   "id": "creative-traveler",
   "metadata": {},
   "source": [
    "### 2. Drop rows 'not assigned'"
   ]
  },
  {
   "cell_type": "code",
   "execution_count": 19,
   "id": "quick-graphic",
   "metadata": {},
   "outputs": [
    {
     "name": "stdout",
     "output_type": "stream",
     "text": [
      "Amount of rows before dropping: 180\n",
      "Amount of rows after dropping: 103\n",
      "Dropped 77 rows!\n"
     ]
    }
   ],
   "source": [
    "num_rows_before = df.shape[0]\n",
    "print(f'Amount of rows before dropping: {num_rows_before}')\n",
    "\n",
    "df.drop(df[df.Borough == 'Not assigned'].index, inplace=True)\n",
    "\n",
    "num_rows_after = df.shape[0]\n",
    "print(f'Amount of rows after dropping: {num_rows_after}')\n",
    "dropped_rows = num_rows_before - num_rows_after\n",
    "print(f'Dropped {dropped_rows} rows!')"
   ]
  },
  {
   "cell_type": "markdown",
   "id": "recorded-settle",
   "metadata": {},
   "source": [
    "## 3. Group by postal code and merge neighbourhoods"
   ]
  },
  {
   "cell_type": "code",
   "execution_count": 20,
   "id": "personal-tobacco",
   "metadata": {},
   "outputs": [
    {
     "name": "stdout",
     "output_type": "stream",
     "text": [
      "Amount of rows after postal code grouping: 103\n"
     ]
    }
   ],
   "source": [
    "df = df.groupby('Postal Code').sum()\n",
    "num_rows_after_postalcode_grouping = df.shape[0]\n",
    "print(f'Amount of rows after postal code grouping: {num_rows_after_postalcode_grouping}') \n",
    "\n",
    "## no difference because the table from wikipedia does not contain multiple rows with the same postalcode"
   ]
  },
  {
   "cell_type": "markdown",
   "id": "technical-russian",
   "metadata": {},
   "source": [
    "## 4. If a cell has a borough but a Not assigned  neighborhood, then the neighborhood will be the same as the borough."
   ]
  },
  {
   "cell_type": "code",
   "execution_count": 21,
   "id": "inclusive-intention",
   "metadata": {},
   "outputs": [
    {
     "name": "stdout",
     "output_type": "stream",
     "text": [
      "There are 0 rows that do contain a borough but the neighbourhood is Not Assigned\n"
     ]
    }
   ],
   "source": [
    "num_rows_borough_not_assigned_neighborhood = df[df.Neighbourhood == 'Not Assigned'].shape[0]\n",
    "print(f'There are {num_rows_borough_not_assigned_neighborhood} rows that do contain a borough but the neighbourhood is Not Assigned')"
   ]
  },
  {
   "cell_type": "markdown",
   "id": "freelance-ballet",
   "metadata": {},
   "source": [
    "# Final dataframe after cleaning up"
   ]
  },
  {
   "cell_type": "code",
   "execution_count": 22,
   "id": "saved-dating",
   "metadata": {},
   "outputs": [
    {
     "name": "stdout",
     "output_type": "stream",
     "text": [
      "The final number of rows after cleaning is: 103\n"
     ]
    }
   ],
   "source": [
    "df.reset_index(inplace=True)\n",
    "num_rows_final = df.shape[0]\n",
    "print(f'The final number of rows after cleaning is: {num_rows_final}')"
   ]
  }
 ],
 "metadata": {
  "kernelspec": {
   "display_name": "Python 3",
   "language": "python",
   "name": "python3"
  },
  "language_info": {
   "codemirror_mode": {
    "name": "ipython",
    "version": 3
   },
   "file_extension": ".py",
   "mimetype": "text/x-python",
   "name": "python",
   "nbconvert_exporter": "python",
   "pygments_lexer": "ipython3",
   "version": "3.8.5"
  }
 },
 "nbformat": 4,
 "nbformat_minor": 5
}
