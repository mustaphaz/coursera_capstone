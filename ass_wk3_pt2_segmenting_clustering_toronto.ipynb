{
 "cells": [
  {
   "cell_type": "markdown",
   "id": "generic-friend",
   "metadata": {},
   "source": [
    "## Assignment week 3 part 2: Segmenting and Clustering Neighborhoods in Toronto"
   ]
  },
  {
   "cell_type": "code",
   "execution_count": 4,
   "id": "sharp-pocket",
   "metadata": {},
   "outputs": [],
   "source": [
    "import pandas as pd"
   ]
  },
  {
   "cell_type": "markdown",
   "id": "funny-cabinet",
   "metadata": {},
   "source": [
    "### 1. Load data from web page"
   ]
  },
  {
   "cell_type": "code",
   "execution_count": 5,
   "id": "weighted-announcement",
   "metadata": {},
   "outputs": [
    {
     "data": {
      "text/html": [
       "<div>\n",
       "<style scoped>\n",
       "    .dataframe tbody tr th:only-of-type {\n",
       "        vertical-align: middle;\n",
       "    }\n",
       "\n",
       "    .dataframe tbody tr th {\n",
       "        vertical-align: top;\n",
       "    }\n",
       "\n",
       "    .dataframe thead th {\n",
       "        text-align: right;\n",
       "    }\n",
       "</style>\n",
       "<table border=\"1\" class=\"dataframe\">\n",
       "  <thead>\n",
       "    <tr style=\"text-align: right;\">\n",
       "      <th></th>\n",
       "      <th>Postal Code</th>\n",
       "      <th>Borough</th>\n",
       "      <th>Neighbourhood</th>\n",
       "    </tr>\n",
       "  </thead>\n",
       "  <tbody>\n",
       "    <tr>\n",
       "      <th>0</th>\n",
       "      <td>M1A</td>\n",
       "      <td>Not assigned</td>\n",
       "      <td>Not assigned</td>\n",
       "    </tr>\n",
       "    <tr>\n",
       "      <th>1</th>\n",
       "      <td>M2A</td>\n",
       "      <td>Not assigned</td>\n",
       "      <td>Not assigned</td>\n",
       "    </tr>\n",
       "    <tr>\n",
       "      <th>2</th>\n",
       "      <td>M3A</td>\n",
       "      <td>North York</td>\n",
       "      <td>Parkwoods</td>\n",
       "    </tr>\n",
       "    <tr>\n",
       "      <th>3</th>\n",
       "      <td>M4A</td>\n",
       "      <td>North York</td>\n",
       "      <td>Victoria Village</td>\n",
       "    </tr>\n",
       "    <tr>\n",
       "      <th>4</th>\n",
       "      <td>M5A</td>\n",
       "      <td>Downtown Toronto</td>\n",
       "      <td>Regent Park, Harbourfront</td>\n",
       "    </tr>\n",
       "  </tbody>\n",
       "</table>\n",
       "</div>"
      ],
      "text/plain": [
       "  Postal Code           Borough              Neighbourhood\n",
       "0         M1A      Not assigned               Not assigned\n",
       "1         M2A      Not assigned               Not assigned\n",
       "2         M3A        North York                  Parkwoods\n",
       "3         M4A        North York           Victoria Village\n",
       "4         M5A  Downtown Toronto  Regent Park, Harbourfront"
      ]
     },
     "execution_count": 5,
     "metadata": {},
     "output_type": "execute_result"
    }
   ],
   "source": [
    "url = 'https://en.wikipedia.org/wiki/List_of_postal_codes_of_Canada:_M'\n",
    "dfs = pd.read_html(url)\n",
    "df = dfs[0]\n",
    "df.head()"
   ]
  },
  {
   "cell_type": "markdown",
   "id": "cloudy-mistake",
   "metadata": {},
   "source": [
    "### 2. Drop rows 'not assigned'"
   ]
  },
  {
   "cell_type": "code",
   "execution_count": 6,
   "id": "manual-federation",
   "metadata": {},
   "outputs": [
    {
     "name": "stdout",
     "output_type": "stream",
     "text": [
      "Amount of rows before dropping: 180\n",
      "Amount of rows after dropping: 103\n",
      "Dropped 77 rows!\n"
     ]
    }
   ],
   "source": [
    "num_rows_before = df.shape[0]\n",
    "print(f'Amount of rows before dropping: {num_rows_before}')\n",
    "\n",
    "df.drop(df[df.Borough == 'Not assigned'].index, inplace=True)\n",
    "\n",
    "num_rows_after = df.shape[0]\n",
    "print(f'Amount of rows after dropping: {num_rows_after}')\n",
    "dropped_rows = num_rows_before - num_rows_after\n",
    "print(f'Dropped {dropped_rows} rows!')"
   ]
  },
  {
   "cell_type": "markdown",
   "id": "united-musical",
   "metadata": {},
   "source": [
    "## 3. Group by postal code and merge neighbourhoods"
   ]
  },
  {
   "cell_type": "code",
   "execution_count": 7,
   "id": "written-insurance",
   "metadata": {},
   "outputs": [
    {
     "name": "stdout",
     "output_type": "stream",
     "text": [
      "Amount of rows after postal code grouping: 103\n"
     ]
    }
   ],
   "source": [
    "df = df.groupby('Postal Code').sum()\n",
    "num_rows_after_postalcode_grouping = df.shape[0]\n",
    "print(f'Amount of rows after postal code grouping: {num_rows_after_postalcode_grouping}') \n",
    "\n",
    "## no difference because the table from wikipedia does not contain multiple rows with the same postalcode"
   ]
  },
  {
   "cell_type": "markdown",
   "id": "immediate-great",
   "metadata": {},
   "source": [
    "## 4. If a cell has a borough but a Not assigned  neighborhood, then the neighborhood will be the same as the borough."
   ]
  },
  {
   "cell_type": "code",
   "execution_count": 8,
   "id": "reflected-savings",
   "metadata": {},
   "outputs": [
    {
     "name": "stdout",
     "output_type": "stream",
     "text": [
      "There are 0 rows that do contain a borough but the neighbourhood is Not Assigned\n"
     ]
    }
   ],
   "source": [
    "num_rows_borough_not_assigned_neighborhood = df[df.Neighbourhood == 'Not Assigned'].shape[0]\n",
    "print(f'There are {num_rows_borough_not_assigned_neighborhood} rows that do contain a borough but the neighbourhood is Not Assigned')"
   ]
  },
  {
   "cell_type": "markdown",
   "id": "patent-tuition",
   "metadata": {},
   "source": [
    "# Final dataframe after cleaning up"
   ]
  },
  {
   "cell_type": "code",
   "execution_count": 14,
   "id": "incorporate-triumph",
   "metadata": {},
   "outputs": [
    {
     "name": "stdout",
     "output_type": "stream",
     "text": [
      "The final number of rows after cleaning is: 103\n"
     ]
    }
   ],
   "source": [
    "df.reset_index(inplace=True)\n",
    "num_rows_final = df.shape[0]\n",
    "print(f'The final number of rows after cleaning is: {num_rows_final}')\n"
   ]
  },
  {
   "cell_type": "markdown",
   "id": "stable-battle",
   "metadata": {},
   "source": [
    "# Part 2: add coordinates to the dataframe"
   ]
  },
  {
   "cell_type": "markdown",
   "id": "urban-dictionary",
   "metadata": {},
   "source": [
    "## 1. Load coordinates from csv into dataframe"
   ]
  },
  {
   "cell_type": "code",
   "execution_count": 56,
   "id": "curious-librarian",
   "metadata": {},
   "outputs": [
    {
     "data": {
      "text/plain": [
       "103"
      ]
     },
     "execution_count": 56,
     "metadata": {},
     "output_type": "execute_result"
    }
   ],
   "source": [
    "df_coordinates = pd.read_csv('https://cocl.us/Geospatial_data')\n",
    "df_new = pd.merge(df, df_coordinates, on='Postal Code')\n",
    "df_new.drop('index', axis=1, inplace=True)\n",
    "df_new1.head()"
   ]
  },
  {
   "cell_type": "code",
   "execution_count": null,
   "id": "promising-kenya",
   "metadata": {},
   "outputs": [],
   "source": []
  }
 ],
 "metadata": {
  "kernelspec": {
   "display_name": "Python 3",
   "language": "python",
   "name": "python3"
  },
  "language_info": {
   "codemirror_mode": {
    "name": "ipython",
    "version": 3
   },
   "file_extension": ".py",
   "mimetype": "text/x-python",
   "name": "python",
   "nbconvert_exporter": "python",
   "pygments_lexer": "ipython3",
   "version": "3.8.5"
  }
 },
 "nbformat": 4,
 "nbformat_minor": 5
}
